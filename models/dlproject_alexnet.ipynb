{
 "cells": [
  {
   "cell_type": "code",
   "execution_count": 1,
   "metadata": {
    "id": "lZAKdaebB3wx"
   },
   "outputs": [],
   "source": [
    "%load_ext autoreload\n",
    "%autoreload 2"
   ]
  },
  {
   "cell_type": "markdown",
   "metadata": {
    "id": "v4u4YC8iqxpe"
   },
   "source": [
    "# Deep Learning Project\n",
    "## AlexNet Implementation"
   ]
  },
  {
   "cell_type": "markdown",
   "metadata": {
    "id": "KUboEeI0CH0A"
   },
   "source": [
    "# Load Packages"
   ]
  },
  {
   "cell_type": "code",
   "execution_count": 2,
   "metadata": {
    "id": "bIAunzfaCNAH"
   },
   "outputs": [],
   "source": [
    "import sys\n",
    "import sklearn\n",
    "import os\n",
    "import numpy as np\n",
    "import matplotlib as mpl\n",
    "import matplotlib.pyplot as plt\n",
    "from functools import partial\n",
    "import PIL\n",
    "import PIL.Image\n",
    "\n",
    "import torch\n"
   ]
  },
  {
   "cell_type": "markdown",
   "metadata": {
    "id": "YyHYkVx5vquV"
   },
   "source": [
    "# Random Seed for Reproduction"
   ]
  },
  {
   "cell_type": "code",
   "execution_count": 3,
   "metadata": {
    "id": "_trs9lqgvpgc"
   },
   "outputs": [],
   "source": [
    "from torch import manual_seed as torch_manual_seed\n",
    "import random\n",
    "import numpy as np\n",
    "\n",
    "from torch.cuda import max_memory_allocated, set_device, manual_seed_all\n",
    "from torch.backends import cudnn\n",
    "\n",
    "def setup_seed(seed):\n",
    "    torch_manual_seed(seed)\n",
    "    manual_seed_all(seed)\n",
    "    np.random.seed(seed)\n",
    "    random.seed(seed)\n",
    "    cudnn.deterministic = True\n",
    "\n",
    "SEED = 42\n",
    "setup_seed(SEED)"
   ]
  },
  {
   "cell_type": "markdown",
   "metadata": {
    "id": "whpECRG_B2Nj"
   },
   "source": [
    "# Import Dataset"
   ]
  },
  {
   "cell_type": "code",
   "execution_count": 4,
   "metadata": {
    "id": "GKWszcAd9WJh"
   },
   "outputs": [
    {
     "name": "stdout",
     "output_type": "stream",
     "text": [
      "replace test/FAKE/0 (10).jpg? [y]es, [n]o, [A]ll, [N]one, [r]ename: ^C\n"
     ]
    }
   ],
   "source": [
    "# Extract contenty\n",
    "!unzip -q \"CIFAR.zip\""
   ]
  },
  {
   "cell_type": "code",
   "execution_count": 5,
   "metadata": {
    "id": "474nVh3m-FrM"
   },
   "outputs": [],
   "source": [
    "from sklearn.datasets import load_files\n",
    "\n",
    "data_dir_train = \"train/\"\n",
    "data_dir_test = \"test/\"\n",
    "batch_size = 32;\n"
   ]
  },
  {
   "cell_type": "code",
   "execution_count": 6,
   "metadata": {},
   "outputs": [],
   "source": [
    "from torchvision import transforms\n",
    "data_transforms = transforms.Compose(\n",
    "    [   transforms.Resize((236, 236)),\n",
    "        #transforms.RandomHorizontalFlip(p=0.5), # Applying Augmentation\n",
    "        #transforms.RandomVerticalFlip(p=0.5),\n",
    "        #transforms.RandomRotation(30),\n",
    "        transforms.ToTensor(),\n",
    "        transforms.Normalize(\n",
    "            mean=[0.485, 0.456, 0.406], std=[0.229, 0.224, 0.225]\n",
    "        )\n",
    "    ]\n",
    ")"
   ]
  },
  {
   "cell_type": "code",
   "execution_count": 7,
   "metadata": {
    "colab": {
     "base_uri": "https://localhost:8080/"
    },
    "id": "eY_Eljk7B3w2",
    "outputId": "4dc4b527-7e1c-4ec9-873f-5f0a3e690f6e"
   },
   "outputs": [
    {
     "name": "stdout",
     "output_type": "stream",
     "text": [
      "Before splitting the full dataset into train and test: len(dataset_all)=120000\n",
      "After splitting the full dataset into train and test: len(dataset_train)=100000. len(dataset_test)=20000\n"
     ]
    }
   ],
   "source": [
    "from torch.utils.data import DataLoader, random_split\n",
    "from torch import Generator\n",
    "from torchvision.transforms import ToTensor\n",
    "from torchvision.datasets import ImageFolder\n",
    "\n",
    "\n",
    "TEST_RATIO = 0.2\n",
    "BATCH_SIZE = 32\n",
    "\n",
    "# Download and load the training data\n",
    "size_all = 120000\n",
    "print(f'Before splitting the full dataset into train and test: len(dataset_all)={size_all}')\n",
    "\n",
    "\n",
    "size_test = 20000\n",
    "size_train = 100000\n",
    "\n",
    "dataset_train = ImageFolder(\n",
    "    data_dir_train,\n",
    "    transform=data_transforms,\n",
    ")\n",
    "dataset_test = ImageFolder(\n",
    "    data_dir_test,\n",
    "    transform=data_transforms,\n",
    ")\n",
    "print(f'After splitting the full dataset into train and test: len(dataset_train)={len(dataset_train)}. len(dataset_test)={len(dataset_test)}')\n",
    "\n",
    "# NOTE that you must not use the test dataset for model selection\n"
   ]
  },
  {
   "cell_type": "code",
   "execution_count": 8,
   "metadata": {
    "id": "KQN23qBcDgOw"
   },
   "outputs": [],
   "source": [
    "# Splitting the validation set from the training data\n",
    "from sklearn.model_selection import train_test_split\n",
    "size_val = int(len(dataset_train) * TEST_RATIO)\n",
    "size_train_train = len(dataset_train) - size_val\n",
    "training, val = random_split(dataset_train, [size_train_train, size_val], generator=Generator().manual_seed(SEED))"
   ]
  },
  {
   "cell_type": "code",
   "execution_count": 9,
   "metadata": {
    "id": "A9_VbtRgHwpz"
   },
   "outputs": [],
   "source": [
    "batch_size = 32\n",
    "dataloader_test = DataLoader(dataset_test, batch_size=batch_size, shuffle=False)\n",
    "dataloader_valid = DataLoader(val, batch_size=batch_size, shuffle=False)\n",
    "dataloader_train = DataLoader(training, batch_size=batch_size, shuffle=True)"
   ]
  },
  {
   "cell_type": "markdown",
   "metadata": {
    "id": "P7tg1WteYWKi"
   },
   "source": [
    "# Training & Testing Loop Implementation"
   ]
  },
  {
   "cell_type": "code",
   "execution_count": 10,
   "metadata": {
    "id": "-Gm31OwTF0RT"
   },
   "outputs": [],
   "source": [
    "def train_loop(dataloader, model, loss_fn, optimizer, calculate_accuracy = True):\n",
    "    size = len(dataloader.dataset)\n",
    "    # Set the model to training mode - important for batch normalization and dropout layers\n",
    "    # Unnecessary in this situation but added for best practices\n",
    "    model.train()\n",
    "    # Initiate lists to hold epoch results\n",
    "    losses_train = []\n",
    "    steps = []\n",
    "    if calculate_accuracy:\n",
    "        accuracies_epoch = []\n",
    "    for batch, (X, y) in enumerate(dataloader):\n",
    "        # Move data from CPU to GPU\n",
    "        X = X.to(dev, non_blocking=True)\n",
    "        y = y.to(dev, non_blocking=True)\n",
    "\n",
    "        # Compute prediction and loss\n",
    "        pred = model(X)\n",
    "        y =y.to(torch.int64)\n",
    "        loss = loss_fn(pred, y)\n",
    "\n",
    "        # Backpropagation\n",
    "        optimizer.zero_grad(set_to_none=True)\n",
    "        loss.backward()\n",
    "        optimizer.step()\n",
    "\n",
    "        if batch % 100 == 0:\n",
    "            loss, current = loss.item(), batch * batch_size + len(X)\n",
    "            print(f\"loss: {loss:>7f}  [{current:>5d}/{size:>5d}]\")\n",
    "        if type(loss) != float:\n",
    "            losses_train.append(loss.float())\n",
    "        else:\n",
    "            losses_train.append(loss)\n",
    "\n",
    "        steps.append(current)\n",
    "\n",
    "        if calculate_accuracy:\n",
    "            with torch.no_grad():\n",
    "                accuracy_batch = (pred.argmax(1) == y).type(torch.float).sum().item()/len(y)\n",
    "            accuracies_epoch.append(accuracy_batch)\n",
    "    if not calculate_accuracy:\n",
    "        return losses_train, [], steps\n",
    "    return losses_train, accuracies_epoch, steps\n",
    "\n",
    "def test_loop(dataloader, model, loss_fn):\n",
    "    # Set the model to evaluation mode - important for batch normalization and dropout layers\n",
    "    # Unnecessary in this situation but added for best practices\n",
    "    model.eval()\n",
    "    size = len(dataloader.dataset)\n",
    "    num_batches = len(dataloader)\n",
    "    test_loss, correct = 0, 0\n",
    "\n",
    "    # Evaluating the model with torch.no_grad() ensures that no gradients are computed during test mode\n",
    "    # also serves to reduce unnecessary gradient computations and memory usage for tensors with requires_grad=True\n",
    "    with torch.no_grad():\n",
    "        for X, y in dataloader:\n",
    "            X = X.to(dev, non_blocking=True)\n",
    "            y = y.to(dev, non_blocking=True)\n",
    "\n",
    "            pred = model(X)\n",
    "            y=y.to(torch.int64)\n",
    "\n",
    "            test_loss += loss_fn(pred, y).item()\n",
    "            correct += (pred.argmax(1) == y).type(torch.float).sum().item()\n",
    "\n",
    "    test_loss /= num_batches\n",
    "    correct /= size\n",
    "    print(f\"Test Error: \\n Accuracy: {(100*correct):>0.1f}%, Avg loss: {test_loss:>8f} \\n\")\n",
    "    return correct, test_loss"
   ]
  },
  {
   "cell_type": "code",
   "execution_count": 11,
   "metadata": {
    "id": "jQ8sSm0eC-EM"
   },
   "outputs": [],
   "source": [
    "def train(model, num_epochs, loss_function, optimizer, dataloader_train, dataloader_valid, calculate_accuracy=True):\n",
    "    losses_train_all_epochs = []\n",
    "    accuracies_train_all_epochs = []\n",
    "    steps_all_epochs = []\n",
    "    accuracies_val_all_epochs = []\n",
    "    losses_val_all_epochs = []\n",
    "\n",
    "    for t in range(num_epochs):\n",
    "        print(f\"Epoch {t+1}\\n-------------------------------\")\n",
    "        losses_train, accuracies_epoch, steps = train_loop(dataloader_train, model, loss_function, optimizer, calculate_accuracy=calculate_accuracy)\n",
    "        losses_train_all_epochs.append(losses_train)\n",
    "        accuracies_train_all_epochs.append(accuracies_epoch)\n",
    "        steps_all_epochs.append(steps)\n",
    "\n",
    "        accuracy_val, loss_val = test_loop(dataloader_valid, model, loss_function)\n",
    "        accuracies_val_all_epochs.append(accuracy_val)\n",
    "        losses_val_all_epochs.append(loss_val)\n",
    "    print(\"Done!\")\n",
    "    return accuracies_train_all_epochs, accuracies_val_all_epochs, losses_train_all_epochs, losses_val_all_epochs"
   ]
  },
  {
   "cell_type": "markdown",
   "metadata": {},
   "source": [
    "# AlexNet"
   ]
  },
  {
   "cell_type": "code",
   "execution_count": 12,
   "metadata": {},
   "outputs": [
    {
     "name": "stdout",
     "output_type": "stream",
     "text": [
      "['FAKE', 'REAL']\n"
     ]
    }
   ],
   "source": [
    "def find_classes(data_dir):\n",
    "    classes = os.listdir(data_dir)\n",
    "    classes.sort()\n",
    "    class_to_idx = {classes[i]: i for i in range(len(classes))}\n",
    "    return classes, class_to_idx\n",
    "\n",
    "\n",
    "classes, class_to_idx = find_classes(data_dir_train)\n",
    "print(classes)\n",
    "class_names = classes"
   ]
  },
  {
   "cell_type": "code",
   "execution_count": 13,
   "metadata": {
    "colab": {
     "base_uri": "https://localhost:8080/"
    },
    "id": "4eMqdXnw-deq",
    "outputId": "4354bb77-f22f-41c4-85f5-30b0554e4613"
   },
   "outputs": [
    {
     "name": "stderr",
     "output_type": "stream",
     "text": [
      "/Users/serenelu/miniconda3/lib/python3.10/site-packages/torchvision/models/_utils.py:208: UserWarning: The parameter 'pretrained' is deprecated since 0.13 and may be removed in the future, please use 'weights' instead.\n",
      "  warnings.warn(\n",
      "/Users/serenelu/miniconda3/lib/python3.10/site-packages/torchvision/models/_utils.py:223: UserWarning: Arguments other than a weight enum or `None` for 'weights' are deprecated since 0.13 and may be removed in the future. The current behavior is equivalent to passing `weights=AlexNet_Weights.IMAGENET1K_V1`. You can also use `weights=AlexNet_Weights.DEFAULT` to get the most up-to-date weights.\n",
      "  warnings.warn(msg)\n"
     ]
    },
    {
     "data": {
      "text/plain": [
       "AlexNet(\n",
       "  (features): Sequential(\n",
       "    (0): Conv2d(3, 64, kernel_size=(11, 11), stride=(4, 4), padding=(2, 2))\n",
       "    (1): ReLU(inplace=True)\n",
       "    (2): MaxPool2d(kernel_size=3, stride=2, padding=0, dilation=1, ceil_mode=False)\n",
       "    (3): Conv2d(64, 192, kernel_size=(5, 5), stride=(1, 1), padding=(2, 2))\n",
       "    (4): ReLU(inplace=True)\n",
       "    (5): MaxPool2d(kernel_size=3, stride=2, padding=0, dilation=1, ceil_mode=False)\n",
       "    (6): Conv2d(192, 384, kernel_size=(3, 3), stride=(1, 1), padding=(1, 1))\n",
       "    (7): ReLU(inplace=True)\n",
       "    (8): Conv2d(384, 256, kernel_size=(3, 3), stride=(1, 1), padding=(1, 1))\n",
       "    (9): ReLU(inplace=True)\n",
       "    (10): Conv2d(256, 256, kernel_size=(3, 3), stride=(1, 1), padding=(1, 1))\n",
       "    (11): ReLU(inplace=True)\n",
       "    (12): MaxPool2d(kernel_size=3, stride=2, padding=0, dilation=1, ceil_mode=False)\n",
       "  )\n",
       "  (avgpool): AdaptiveAvgPool2d(output_size=(6, 6))\n",
       "  (classifier): Sequential(\n",
       "    (0): Dropout(p=0.5, inplace=False)\n",
       "    (1): Linear(in_features=9216, out_features=4096, bias=True)\n",
       "    (2): ReLU(inplace=True)\n",
       "    (3): Dropout(p=0.5, inplace=False)\n",
       "    (4): Linear(in_features=4096, out_features=4096, bias=True)\n",
       "    (5): ReLU(inplace=True)\n",
       "    (6): Linear(in_features=4096, out_features=2, bias=True)\n",
       "  )\n",
       ")"
      ]
     },
     "execution_count": 13,
     "metadata": {},
     "output_type": "execute_result"
    }
   ],
   "source": [
    "#CNN 2 - AlexNet Model\n",
    "import torchvision.models as models\n",
    "import torch.nn as nn\n",
    "import torch.optim as optim\n",
    "\n",
    "# Create a device\n",
    "dev = torch.device(\"cuda:0\" if torch.cuda.is_available() else \"cpu\")\n",
    "# Create a model based on the AlexNet pretrained CNN model\n",
    "model = models.alexnet(pretrained = True)\n",
    "\n",
    "# Customize the final layer with the class names\n",
    "feats = model.classifier[6].in_features\n",
    "features = list(model.classifier.children())[:-1]\n",
    "features.extend([nn.Linear(feats,2)])\n",
    "model.classifier = nn.Sequential(*features)\n",
    "model.to(dev)"
   ]
  },
  {
   "cell_type": "code",
   "execution_count": null,
   "metadata": {
    "colab": {
     "base_uri": "https://localhost:8080/"
    },
    "id": "mSwCyZo_4K1S",
    "outputId": "46a55adb-d9d9-410e-ca2b-099d14eaab52"
   },
   "outputs": [
    {
     "name": "stdout",
     "output_type": "stream",
     "text": [
      "Epoch 1\n",
      "-------------------------------\n",
      "loss: 0.732455  [   32/80000]\n",
      "loss: 0.639705  [ 3232/80000]\n",
      "loss: 0.928216  [ 6432/80000]\n",
      "loss: 0.327731  [ 9632/80000]\n",
      "loss: 0.521517  [12832/80000]\n",
      "loss: 0.535828  [16032/80000]\n",
      "loss: 0.300197  [19232/80000]\n",
      "loss: 0.153072  [22432/80000]\n"
     ]
    }
   ],
   "source": [
    "# Set number of epochs\n",
    "epochs = 3\n",
    "# Set loss function\n",
    "loss = nn.CrossEntropyLoss()\n",
    "# Set optimizer with learning rate\n",
    "optimizer = torch.optim.SGD(model.parameters(), lr=0.01)\n",
    "\n",
    "# Train and test data to obtain accuracies and losses\n",
    "accuracies_train_all_epochs, accuracies_val_all_epochs, losses_train_all_epochs, losses_val_all_epochs = train(model, epochs, loss, optimizer, dataloader_train, dataloader_valid)"
   ]
  },
  {
   "cell_type": "code",
   "execution_count": 57,
   "metadata": {},
   "outputs": [
    {
     "data": {
      "image/png": "[encoded data removed]",
      "text/plain": [
       "<Figure size 1000x600 with 1 Axes>"
      ]
     },
     "metadata": {},
     "output_type": "display_data"
    }
   ],
   "source": [
    "# Inputting data\n",
    "epochs = [1, 2, 3]\n",
    "average_loss = [0.949265, 0.716303, 0.632496]\n",
    "\n",
    "# Set plot features\n",
    "plt.figure(figsize=(10, 6))\n",
    "plt.plot(epochs, average_loss, marker='o', linestyle='-', color='purple')\n",
    "\n",
    "# Adding title and labels\n",
    "plt.title('AlexNet Model Training Loss Curve')\n",
    "plt.xlabel('Epoch')\n",
    "plt.ylabel('Average Loss')\n",
    "plt.grid(True)\n",
    "\n",
    "# Display the plot\n",
    "plt.show()"
   ]
  }
 ],
 "metadata": {
  "colab": {
   "provenance": []
  },
  "kernelspec": {
   "display_name": "Python 3 (ipykernel)",
   "language": "python",
   "name": "python3"
  },
  "language_info": {
   "codemirror_mode": {
    "name": "ipython",
    "version": 3
   },
   "file_extension": ".py",
   "mimetype": "text/x-python",
   "name": "python",
   "nbconvert_exporter": "python",
   "pygments_lexer": "ipython3",
   "version": "3.10.10"
  }
 },
 "nbformat": 4,
 "nbformat_minor": 4
}
